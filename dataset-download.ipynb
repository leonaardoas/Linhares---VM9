{
 "cells": [
  {
   "cell_type": "code",
   "execution_count": null,
   "metadata": {
    "_cell_guid": "b1076dfc-b9ad-4769-8c92-a6c4dae69d19",
    "_uuid": "8f2839f25d086af736a60e9eeb907d3b93b6e0e5",
    "trusted": true
   },
   "outputs": [],
   "source": [
    "# This Python 3 environment comes with many helpful analytics libraries installed\n",
    "# It is defined by the kaggle/python Docker image: https://github.com/kaggle/docker-python\n",
    "# For example, here's several helpful packages to load\n",
    "\n",
    "import numpy as np # linear algebra\n",
    "import pandas as pd # data processing, CSV file I/O (e.g. pd.read_csv)\n",
    "\n",
    "# Input data files are available in the read-only \"../input/\" directory\n",
    "# For example, running this (by clicking run or pressing Shift+Enter) will list all files under the input directory\n",
    "\n",
    "import os\n",
    "for dirname, _, filenames in os.walk('/kaggle/input'):\n",
    "    for filename in filenames:\n",
    "        print(os.path.join(dirname, filename))\n",
    "\n",
    "# You can write up to 20GB to the current directory (/kaggle/working/) that gets preserved as output when you create a version using \"Save & Run All\" \n",
    "# You can also write temporary files to /kaggle/temp/, but they won't be saved outside of the current session"
   ]
  },
  {
   "cell_type": "code",
   "execution_count": null,
   "metadata": {
    "execution": {
     "iopub.execute_input": "2025-06-13T20:59:13.011676Z",
     "iopub.status.busy": "2025-06-13T20:59:13.011155Z",
     "iopub.status.idle": "2025-06-13T20:59:16.972015Z",
     "shell.execute_reply": "2025-06-13T20:59:16.971310Z",
     "shell.execute_reply.started": "2025-06-13T20:59:13.011652Z"
    },
    "trusted": true
   },
   "outputs": [],
   "source": [
    "# Instale a biblioteca necessária para conversão de coordenadas\n",
    "!pip install mercantile"
   ]
  },
  {
   "cell_type": "code",
   "execution_count": null,
   "metadata": {
    "execution": {
     "iopub.execute_input": "2025-06-13T20:59:19.684234Z",
     "iopub.status.busy": "2025-06-13T20:59:19.683565Z",
     "iopub.status.idle": "2025-06-13T20:59:19.692349Z",
     "shell.execute_reply": "2025-06-13T20:59:19.691878Z",
     "shell.execute_reply.started": "2025-06-13T20:59:19.684206Z"
    },
    "trusted": true
   },
   "outputs": [],
   "source": [
    "import os\n",
    "import requests\n",
    "import mercantile\n",
    "import time\n",
    "from concurrent.futures import ThreadPoolExecutor"
   ]
  },
  {
   "cell_type": "code",
   "execution_count": null,
   "metadata": {
    "execution": {
     "iopub.execute_input": "2025-06-13T20:26:58.103520Z",
     "iopub.status.busy": "2025-06-13T20:26:58.103119Z",
     "iopub.status.idle": "2025-06-13T20:26:58.108385Z",
     "shell.execute_reply": "2025-06-13T20:26:58.107407Z",
     "shell.execute_reply.started": "2025-06-13T20:26:58.103494Z"
    },
    "trusted": true
   },
   "outputs": [],
   "source": [
    "# --- PASSO 1: DEFINIR A ÁREA DE INTERESSE E O ZOOM ---\n",
    "\n",
    "# Bounding Box (Caixa Delimitadora) para Linhares, ES\n",
    "# Formato: (longitude_oeste, latitude_sul, longitude_leste, latitude_norte)\n",
    "linhares_bbox = (-40.09363, -19.42839, -40.00153, -19.30013)\n",
    "\n",
    "\n",
    "# Nível de Zoom que você quer baixar\n",
    "zoom_level = 20\n",
    "\n",
    "# URL base do serviço de tiles\n",
    "base_url = \"https://ortofotos.linhares.es.gov.br/SEDE/2022\"\n",
    "\n",
    "# Pasta local onde os arquivos serão salvos\n",
    "output_dir = \"/content/ortofotos_linhares\"\n"
   ]
  },
  {
   "cell_type": "code",
   "execution_count": null,
   "metadata": {
    "trusted": true
   },
   "outputs": [],
   "source": [
    "# --- PASSO 2: CONVERTER BOUNDING BOX PARA TILES ---\n",
    "\n",
    "# A biblioteca mercantile calcula quais tiles cobrem a nossa bounding box no zoom especificado\n",
    "# O resultado é uma lista de todos os tiles (x, y, z)\n",
    "tiles = list(mercantile.tiles(west=linhares_bbox[0],\n",
    "                               south=linhares_bbox[1],\n",
    "                               east=linhares_bbox[2],\n",
    "                               north=linhares_bbox[3],\n",
    "                               zooms=[zoom_level]))\n",
    "\n",
    "print(f\"Total de tiles a serem verificados para a área: {len(tiles)}\")\n",
    "\n",
    "if not tiles:\n",
    "    print(\"Nenhum tile encontrado para a BBox e zoom especificados. Verifique as coordenadas.\")\n",
    "else:\n",
    "    # --- PASSO 3: FUNÇÃO DE DOWNLOAD ---\n",
    "\n",
    "    def download_tile(tile):\n",
    "        \"\"\"Função para baixar um único tile.\"\"\"\n",
    "        x, y, z = tile.x, tile.y, tile.z\n",
    "\n",
    "        # Monta a URL completa do tile\n",
    "        tile_url = f\"{base_url}/{z}/{x}/{y}.png\"\n",
    "\n",
    "        # Monta o caminho local para salvar o arquivo, replicando a estrutura do servidor\n",
    "        save_path_dir = os.path.join(output_dir, str(z), str(x))\n",
    "        os.makedirs(save_path_dir, exist_ok=True)\n",
    "        save_path_file = os.path.join(save_path_dir, f\"{y}.png\")\n",
    "\n",
    "        # Verifica se o arquivo já existe para não baixar de novo\n",
    "        if os.path.exists(save_path_file):\n",
    "            # print(f\"Tile {z}/{x}/{y} já existe. Pulando.\")\n",
    "            return f\"EXISTE: {tile_url}\"\n",
    "\n",
    "        try:\n",
    "            # Faz a requisição para baixar a imagem\n",
    "            response = requests.get(tile_url, timeout=10)\n",
    "\n",
    "            # Se a resposta for 200 (OK), salva o arquivo\n",
    "            if response.status_code == 200:\n",
    "                with open(save_path_file, 'wb') as f:\n",
    "                    f.write(response.content)\n",
    "                return f\"BAIXADO: {tile_url}\"\n",
    "            else:\n",
    "                return f\"FALHA {response.status_code}: {tile_url}\"\n",
    "        except requests.exceptions.RequestException as e:\n",
    "            return f\"ERRO DE CONEXÃO: {tile_url} ({e})\"\n",
    "\n",
    "    # --- PASSO 4: EXECUTAR O DOWNLOAD EM PARALELO ---\n",
    "\n",
    "    # Usar ThreadPoolExecutor acelera o processo ao fazer vários downloads simultaneamente\n",
    "    # O número de 'workers' pode ser ajustado\n",
    "    with ThreadPoolExecutor(max_workers=10) as executor:\n",
    "        results = list(executor.map(download_tile, tiles))\n",
    "\n",
    "    # Imprime um resumo do que foi feito\n",
    "    baixados = sum(1 for r in results if r.startswith(\"BAIXADO\"))\n",
    "    falhas = sum(1 for r in results if r.startswith(\"FALHA\"))\n",
    "    erros = sum(1 for r in results if r.startswith(\"ERRO\"))\n",
    "    existentes = sum(1 for r in results if r.startswith(\"EXISTE\"))\n",
    "\n",
    "    print(\"\\n--- Download Concluído! ---\")\n",
    "    print(f\"Tiles baixados com sucesso: {baixados}\")\n",
    "    print(f\"Tiles já existentes: {existentes}\")\n",
    "    print(f\"Tiles não encontrados no servidor (Falha 404, etc.): {falhas}\")\n",
    "    print(f\"Erros de conexão: {erros}\")\n",
    "    print(f\"Imagens salvas em: {output_dir}\")"
   ]
  }
 ],
 "metadata": {
  "kaggle": {
   "accelerator": "gpu",
   "dataSources": [],
   "dockerImageVersionId": 31041,
   "isGpuEnabled": true,
   "isInternetEnabled": true,
   "language": "python",
   "sourceType": "notebook"
  },
  "kernelspec": {
   "display_name": "Python 3",
   "language": "python",
   "name": "python3"
  },
  "language_info": {
   "codemirror_mode": {
    "name": "ipython",
    "version": 3
   },
   "file_extension": ".py",
   "mimetype": "text/x-python",
   "name": "python",
   "nbconvert_exporter": "python",
   "pygments_lexer": "ipython3",
   "version": "3.11.11"
  }
 },
 "nbformat": 4,
 "nbformat_minor": 4
}
